{
 "cells": [
  {
   "cell_type": "code",
   "execution_count": 1,
   "id": "22f36872-3480-4752-812c-22bb8de8eebb",
   "metadata": {},
   "outputs": [],
   "source": [
    "import pandas as pd\n",
    "import numpy as np"
   ]
  },
  {
   "cell_type": "markdown",
   "id": "ad007584-3b4a-4a8a-899a-77ce224f0847",
   "metadata": {},
   "source": [
    "<h2>Nearest Neighbour</h2>\n"
   ]
  },
  {
   "cell_type": "code",
   "execution_count": 36,
   "id": "a9ff78f6-fee2-4713-94fb-76188449de40",
   "metadata": {},
   "outputs": [
    {
     "data": {
      "text/html": [
       "<div>\n",
       "<style scoped>\n",
       "    .dataframe tbody tr th:only-of-type {\n",
       "        vertical-align: middle;\n",
       "    }\n",
       "\n",
       "    .dataframe tbody tr th {\n",
       "        vertical-align: top;\n",
       "    }\n",
       "\n",
       "    .dataframe thead th {\n",
       "        text-align: right;\n",
       "    }\n",
       "</style>\n",
       "<table border=\"1\" class=\"dataframe\">\n",
       "  <thead>\n",
       "    <tr style=\"text-align: right;\">\n",
       "      <th></th>\n",
       "      <th>attr1</th>\n",
       "      <th>attr2</th>\n",
       "      <th>class</th>\n",
       "    </tr>\n",
       "  </thead>\n",
       "  <tbody>\n",
       "    <tr>\n",
       "      <th>0</th>\n",
       "      <td>10</td>\n",
       "      <td>2</td>\n",
       "      <td>Yes</td>\n",
       "    </tr>\n",
       "    <tr>\n",
       "      <th>1</th>\n",
       "      <td>4</td>\n",
       "      <td>4</td>\n",
       "      <td>No</td>\n",
       "    </tr>\n",
       "    <tr>\n",
       "      <th>2</th>\n",
       "      <td>1</td>\n",
       "      <td>9</td>\n",
       "      <td>Yes</td>\n",
       "    </tr>\n",
       "    <tr>\n",
       "      <th>3</th>\n",
       "      <td>3</td>\n",
       "      <td>10</td>\n",
       "      <td>Yes</td>\n",
       "    </tr>\n",
       "    <tr>\n",
       "      <th>4</th>\n",
       "      <td>4</td>\n",
       "      <td>6</td>\n",
       "      <td>No</td>\n",
       "    </tr>\n",
       "  </tbody>\n",
       "</table>\n",
       "</div>"
      ],
      "text/plain": [
       "   attr1  attr2 class\n",
       "0     10      2   Yes\n",
       "1      4      4    No\n",
       "2      1      9   Yes\n",
       "3      3     10   Yes\n",
       "4      4      6    No"
      ]
     },
     "execution_count": 36,
     "metadata": {},
     "output_type": "execute_result"
    }
   ],
   "source": [
    "# Creating dataset\n",
    "train = {\n",
    "    \"attr1\": [10,4,1,3,4,8,1],\n",
    "    \"attr2\": [2,4,9,10,6,8,8],\n",
    "    \"class\": ['Yes','No','Yes','Yes','No','No','Yes']\n",
    "}\n",
    "test = {\n",
    "    \"attr1\": [2,7,1],\n",
    "    \"attr2\": [7,7,11]\n",
    "}\n",
    "train = pd.DataFrame(train)\n",
    "test = pd.DataFrame(test)\n",
    "\n",
    "train.head()"
   ]
  },
  {
   "cell_type": "code",
   "execution_count": 33,
   "id": "8cddf789-e2ec-41f5-a66c-aab7d1e053f3",
   "metadata": {},
   "outputs": [
    {
     "data": {
      "text/plain": [
       "RangeIndex(start=0, stop=7, step=1)"
      ]
     },
     "execution_count": 33,
     "metadata": {},
     "output_type": "execute_result"
    }
   ],
   "source": [
    "train.index"
   ]
  },
  {
   "cell_type": "code",
   "execution_count": null,
   "id": "40a2a3bb-a8c0-42a3-8926-f5be00aa7b4c",
   "metadata": {},
   "outputs": [],
   "source": []
  },
  {
   "cell_type": "code",
   "execution_count": 51,
   "id": "eb06a918-c294-4c6c-af4d-bd036a0f8c5c",
   "metadata": {},
   "outputs": [],
   "source": [
    "# K-NN for two features\n",
    "def calculate_distance(train, test):\n",
    "    # we are using manhantance distance\n",
    "    # d = |x2-x1| + |y2-y1|\n",
    "\n",
    "    X_train = np.array(train.iloc[:,:-1])\n",
    "    X_test = np.array(test)\n",
    "\n",
    "    # defining matrix size\n",
    "    n = X_train.shape[0]\n",
    "    m = X_test.shape[0]\n",
    "    distance_matrix = np.zeros((n,m))\n",
    "\n",
    "    for i in range(n):\n",
    "        for j in range(m):\n",
    "            distance = np.sqrt((X_test[j][0] - X_train[i][0])**2 +  (X_test[j][1] - X_train[i][1])**2)\n",
    "            distance_matrix[i][j] = round(distance,2)\n",
    "\n",
    "    distance_matrix = pd.DataFrame(distance_matrix)\n",
    "    distance_matrix = pd.concat([distance_matrix, train.iloc[:,-1]],axis=1)\n",
    "    return distance_matrix\n",
    "        \n",
    "distance_matrix = calculate_distance(train, test)    "
   ]
  },
  {
   "cell_type": "code",
   "execution_count": 52,
   "id": "dc2b2de5-0c97-44c5-8bc5-fd7eaf98573e",
   "metadata": {},
   "outputs": [
    {
     "data": {
      "text/html": [
       "<div>\n",
       "<style scoped>\n",
       "    .dataframe tbody tr th:only-of-type {\n",
       "        vertical-align: middle;\n",
       "    }\n",
       "\n",
       "    .dataframe tbody tr th {\n",
       "        vertical-align: top;\n",
       "    }\n",
       "\n",
       "    .dataframe thead th {\n",
       "        text-align: right;\n",
       "    }\n",
       "</style>\n",
       "<table border=\"1\" class=\"dataframe\">\n",
       "  <thead>\n",
       "    <tr style=\"text-align: right;\">\n",
       "      <th></th>\n",
       "      <th>0</th>\n",
       "      <th>1</th>\n",
       "      <th>2</th>\n",
       "      <th>class</th>\n",
       "    </tr>\n",
       "  </thead>\n",
       "  <tbody>\n",
       "    <tr>\n",
       "      <th>0</th>\n",
       "      <td>9.43</td>\n",
       "      <td>5.83</td>\n",
       "      <td>12.73</td>\n",
       "      <td>Yes</td>\n",
       "    </tr>\n",
       "    <tr>\n",
       "      <th>1</th>\n",
       "      <td>3.61</td>\n",
       "      <td>4.24</td>\n",
       "      <td>7.62</td>\n",
       "      <td>No</td>\n",
       "    </tr>\n",
       "    <tr>\n",
       "      <th>2</th>\n",
       "      <td>2.24</td>\n",
       "      <td>6.32</td>\n",
       "      <td>2.00</td>\n",
       "      <td>Yes</td>\n",
       "    </tr>\n",
       "    <tr>\n",
       "      <th>3</th>\n",
       "      <td>3.16</td>\n",
       "      <td>5.00</td>\n",
       "      <td>2.24</td>\n",
       "      <td>Yes</td>\n",
       "    </tr>\n",
       "    <tr>\n",
       "      <th>4</th>\n",
       "      <td>2.24</td>\n",
       "      <td>3.16</td>\n",
       "      <td>5.83</td>\n",
       "      <td>No</td>\n",
       "    </tr>\n",
       "    <tr>\n",
       "      <th>5</th>\n",
       "      <td>6.08</td>\n",
       "      <td>1.41</td>\n",
       "      <td>7.62</td>\n",
       "      <td>No</td>\n",
       "    </tr>\n",
       "    <tr>\n",
       "      <th>6</th>\n",
       "      <td>1.41</td>\n",
       "      <td>6.08</td>\n",
       "      <td>3.00</td>\n",
       "      <td>Yes</td>\n",
       "    </tr>\n",
       "  </tbody>\n",
       "</table>\n",
       "</div>"
      ],
      "text/plain": [
       "      0     1      2 class\n",
       "0  9.43  5.83  12.73   Yes\n",
       "1  3.61  4.24   7.62    No\n",
       "2  2.24  6.32   2.00   Yes\n",
       "3  3.16  5.00   2.24   Yes\n",
       "4  2.24  3.16   5.83    No\n",
       "5  6.08  1.41   7.62    No\n",
       "6  1.41  6.08   3.00   Yes"
      ]
     },
     "execution_count": 52,
     "metadata": {},
     "output_type": "execute_result"
    }
   ],
   "source": [
    "distance_matrix"
   ]
  },
  {
   "cell_type": "code",
   "execution_count": 68,
   "id": "8bdf0e58-bf85-4191-aaac-fae546761ba7",
   "metadata": {},
   "outputs": [
    {
     "data": {
      "text/plain": [
       "array([1.41, 2.24, 2.24])"
      ]
     },
     "execution_count": 68,
     "metadata": {},
     "output_type": "execute_result"
    }
   ],
   "source": []
  },
  {
   "cell_type": "code",
   "execution_count": 75,
   "id": "9637cc83-e45f-42c6-a096-33859d14a0b7",
   "metadata": {},
   "outputs": [
    {
     "data": {
      "text/plain": [
       "'Yes'"
      ]
     },
     "execution_count": 75,
     "metadata": {},
     "output_type": "execute_result"
    }
   ],
   "source": [
    "# predicting for first sample when k = 3\n",
    "k=3\n",
    "k_instances = np.sort(distance_matrix[0])[:k]\n",
    "pred = distance_matrix[distance_matrix[0].isin(k_instances)]['class'].max()\n",
    "pred"
   ]
  },
  {
   "cell_type": "code",
   "execution_count": 90,
   "id": "8d682a74-65ef-4149-9b1d-be471f6ede9a",
   "metadata": {},
   "outputs": [
    {
     "name": "stdout",
     "output_type": "stream",
     "text": [
      "6\n"
     ]
    }
   ],
   "source": [
    "x = np.array([1, 2, 3])\n",
    "y = np.array([2, 4, 4])\n",
    "z = (x-y)**2\n",
    "\n",
    "z = np.sum(z)\n",
    "print(z)"
   ]
  },
  {
   "cell_type": "code",
   "execution_count": null,
   "id": "f63a908d-a6a4-4380-ba32-2247aee926cc",
   "metadata": {},
   "outputs": [],
   "source": []
  }
 ],
 "metadata": {
  "kernelspec": {
   "display_name": "Python 3 (ipykernel)",
   "language": "python",
   "name": "python3"
  },
  "language_info": {
   "codemirror_mode": {
    "name": "ipython",
    "version": 3
   },
   "file_extension": ".py",
   "mimetype": "text/x-python",
   "name": "python",
   "nbconvert_exporter": "python",
   "pygments_lexer": "ipython3",
   "version": "3.12.4"
  }
 },
 "nbformat": 4,
 "nbformat_minor": 5
}
